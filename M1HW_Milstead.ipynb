{
 "cells": [
  {
   "cell_type": "markdown",
   "metadata": {},
   "source": [
    "# CSC221\n",
    "# M1HW_Milstead\n",
    "# Goal: Silver\n"
   ]
  },
  {
   "cell_type": "markdown",
   "metadata": {},
   "source": [
    "## Calculate the dimensions of a sphere"
   ]
  },
  {
   "cell_type": "code",
   "execution_count": null,
   "metadata": {},
   "outputs": [],
   "source": [
    "import math\n",
    "\n",
    "\"\"\"\n",
    "Author: Mallory Milstead\n",
    "Calculates dimensions of a sphere\n",
    "\"\"\"\n",
    "\n",
    "def main():\n",
    "    \"\"\"\n",
    "    Input: The radius of a sphere\n",
    "    Output: The following dimensions of a sphere: radius, surface area, diameter, volume and circumference\"\"\"\n",
    "    \n",
    "    radius = getRadius()\n",
    "    print(\"The radius of the sphere is \" + str(radius))\n",
    "    getSurfaceArea(radius)\n",
    "    getDiameter(radius)\n",
    "    getVolume(radius)\n",
    "    getCircum(radius)\n",
    "\n",
    "def getRadius():\n",
    "    \"\"\"\n",
    "    Input radius\n",
    "    \"\"\"\n",
    "    radius = float(input(\"Enter the radius: \"))\n",
    "    return radius\n",
    "\n",
    "def getSurfaceArea(radius):\n",
    "    \"\"\"\n",
    "    Calculate surface area\n",
    "    surfaceArea = 4*math.pi*(radius**2)\n",
    "    \"\"\"\n",
    "    surfaceArea = 4*math.pi*(radius**2)\n",
    "    return print(\"The surface area is \" + str(format(surfaceArea, \".2f\")))\n",
    "\n",
    "def getDiameter(radius):\n",
    "    \"\"\"\n",
    "    Calcualte diameter\n",
    "    diameter = radius * 2\n",
    "    \"\"\"\n",
    "    diameter = radius * 2\n",
    "    return print(\"The diameter is \" + str(diameter))\n",
    "\n",
    "def getVolume(radius):\n",
    "    \"\"\"\n",
    "    Calcuate volume\n",
    "    volume = (4/3)*math.pi*(radius**3)\n",
    "    \"\"\"\n",
    "    volume = (4/3)*math.pi*(radius**3)\n",
    "    return print (\"The volume is \" + str(format(volume, \".2f\")))\n",
    "\n",
    "def getCircum(radius):\n",
    "    \"\"\"\n",
    "    Calculate circumference\n",
    "    circumference = 2*math.pi*radius\n",
    "    \"\"\"\n",
    "    circumference = 2*math.pi*radius\n",
    "    return print (\"The circumference is \" + str(format(circumference, \".2f\")))\n",
    "\n",
    "if __name__ == \"__main__\":\n",
    "    main()\n"
   ]
  },
  {
   "cell_type": "markdown",
   "metadata": {},
   "source": [
    "## Calculate total pay for employee including overtime"
   ]
  },
  {
   "cell_type": "code",
   "execution_count": null,
   "metadata": {
    "scrolled": true
   },
   "outputs": [
    {
     "name": "stdout",
     "output_type": "stream",
     "text": [
      "What is the regular hourly wage?2\n",
      "How many regular hours were worked?3\n",
      "How many overtime hours were worked?2\n",
      "What is the overtime wage? 1\n",
      "The total regular pay is $6.00\n",
      "The total overtime pay is $2.00\n",
      "The total gross pay is $8.00\n"
     ]
    }
   ],
   "source": [
    "\"\"\"\n",
    "Author: Mallory Milstead\n",
    "Calculates total pay including regular and overtime may\n",
    "\"\"\"\n",
    "\n",
    "def main():\n",
    "    \"\"\"\n",
    "    Calculate the total pay for an employee (regular + overtime)\n",
    "    \"\"\"\n",
    "    runAgain = \"Y\"\n",
    "    while runAgain == \"Y\":\n",
    "        regularPay = calc_reg_pay()\n",
    "        overtimePay = calc_ot_pay()\n",
    "        calc_gross_pay(regularPay, overtimePay)\n",
    "        runAgain = input(\"Would you like to run the program again? Y or N: \" + \"\\n\").upper()\n",
    "    print(\"Goodbye\")\n",
    "\n",
    "\n",
    "def calc_reg_pay():\n",
    "    \"\"\"\n",
    "    Input: regular hourly pay and number of regular hours worked\n",
    "    Output: total amount of regular pay\n",
    "    \"\"\"\n",
    "    hourlyWage = float(input(\"What is the regular hourly wage?\" ))\n",
    "    num_reg_hours = float(input(\"How many regular hours were worked?\" ))\n",
    "    total_reg_pay = hourlyWage * num_reg_hours\n",
    "    return total_reg_pay\n",
    "\n",
    "def calc_ot_pay():\n",
    "    \"\"\"\n",
    "    Input: number of OT hours worked and OT wage\n",
    "    Output: total amount of OT pay\n",
    "    \"\"\"\n",
    "    num_ot_hours = float(input(\"How many overtime hours were worked?\" ))\n",
    "    if num_ot_hours > 0:\n",
    "        overtimeWage = float(input(\"What is the overtime wage? \")) \n",
    "        total_ot_pay = overtimeWage * num_ot_hours\n",
    "    else:\n",
    "        total_ot_pay = 0\n",
    "    return total_ot_pay\n",
    "\n",
    "def calc_gross_pay(regularPay, overtimePay):\n",
    "    \"\"\"\n",
    "    Adds the regular pay and the OT pay, returns the gross pay\n",
    "    \"\"\"\n",
    "    grossPay = regularPay + overtimePay\n",
    "    return print(\"The total regular pay is $\" + str(format(regularPay, \".2f\") + \"\\n\" \\\n",
    "            \"The total overtime pay is $\" + str(format(overtimePay, \".2f\") + \"\\n\" \\\n",
    "            \"The total gross pay is $\" + str(format(grossPay, \".2f\")))))\n",
    "\n",
    "if __name__ == \"__main__\":\n",
    "    main()\n",
    "\n"
   ]
  },
  {
   "cell_type": "markdown",
   "metadata": {},
   "source": [
    "## Calculate the distance a bouncing ball has traveled"
   ]
  },
  {
   "cell_type": "code",
   "execution_count": 1,
   "metadata": {},
   "outputs": [
    {
     "name": "stdout",
     "output_type": "stream",
     "text": [
      "How many times will the ball bounce? 3\n",
      "Initially, how many feet will the ball drop from? 2\n",
      "The ball will have bounced 6.70 feet.\n"
     ]
    }
   ],
   "source": [
    "\"\"\"\n",
    "Author: Mallory Milstead\n",
    "Calculates the total distance traveled by a bouncing ball\n",
    "\"\"\"\n",
    "\n",
    "def main():\n",
    "    \"\"\"\n",
    "       Calculates the total distance traveled by a bouncing ball\n",
    "       The total distance assumes the ball has landed after the final bounce\n",
    "\n",
    "       Input: How many times the ball bounces off the ground and initial distance the ball is dropped from\n",
    "       Output: Total distance the ball has bounced, assuming it lands on the ground after the final bounce\n",
    "    \"\"\"\n",
    "\n",
    "    timesToBounce = int(input(\"How many times will the ball bounce? \"))\n",
    "    distanceBounced = int(input(\"Initially, how many feet will the ball drop from? \"))\n",
    "    bounceHeight = distanceBounced\n",
    "    for i in range (timesToBounce):\n",
    "        bounceHeight *= .6\n",
    "        distanceBounced += bounceHeight*2\n",
    "    return print(\"The ball will have bounced \" + str(format(distanceBounced, \".2f\")) + \" feet.\")\n",
    "    \n",
    "\n",
    "if __name__ == \"__main__\":\n",
    "    main()\n",
    "\n"
   ]
  }
 ],
 "metadata": {
  "kernelspec": {
   "display_name": "Python 3",
   "language": "python",
   "name": "python3"
  },
  "language_info": {
   "codemirror_mode": {
    "name": "ipython",
    "version": 3
   },
   "file_extension": ".py",
   "mimetype": "text/x-python",
   "name": "python",
   "nbconvert_exporter": "python",
   "pygments_lexer": "ipython3",
   "version": "3.6.5"
  }
 },
 "nbformat": 4,
 "nbformat_minor": 2
}
