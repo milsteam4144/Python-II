{
 "cells": [
  {
   "cell_type": "code",
   "execution_count": null,
   "metadata": {},
   "outputs": [],
   "source": [
    "#M1T1_Milstead\n",
    "#8/22/2018\n",
    "\n",
    "import math\n",
    "\n",
    "\"\"\"\n",
    "Author: Mallory Milstead\n",
    "User inputs the length of a fishing pole and determines if the pole\n",
    "can fit in a box of a certain width\n",
    "\"\"\"\n",
    "\n",
    "def main():\n",
    "    \"\"\"\n",
    "    Ask the user for the size of a pole and the size of a box.\n",
    "    Determine if the pole can fit in the box or not.\n",
    "    \n",
    "    input: length of pole, width of box\n",
    "    output: tell the user what the largest size pole is that can fit in the box\n",
    "    and determine if their pole fits\n",
    "    \"\"\"\n",
    "\n",
    "    runAgain = \"y\" #define variable to run program once\n",
    "    while runAgain == \"Y\" or runAgain == \"y\":\n",
    "        maxPoleLength()\n",
    "        runAgain = input(\"Enter 'y' to run the program again: \" + \"\\n\")\n",
    "    print(\"Goodbye\")\n",
    "\n",
    "def getHypotenuse(width = .01, length = .01):\n",
    "   \"\"\"Allow the user to input the width and length of a right angle triangle and return the hypotenuse\"\"\"\n",
    "   width = int(input(\"Enter the width of the box: \"))\n",
    "   length = int(input(\"Enter the length of the box: \"))\n",
    "   hypotenuse = math.sqrt(width**2 + length**2)\n",
    "   return hypotenuse \n",
    "\n",
    "def maxPoleLength():\n",
    "    \"\"\"Uses the pythagorem theorem to determine if the rodLength is less than or equal to the\n",
    "    hypotenuse of the box\"\"\"\n",
    "    rodLength = int(input(\"How long is the fishing pole? \"))\n",
    "    hypotenuse = getHypotenuse()\n",
    "    if hypotenuse >= rodLength:\n",
    "        return print(\"\\nThe pole will fit in the box. \\nThe longest pole that will fit is\", format(hypotenuse, \".2f\") + \"\\n\")\n",
    "    else:\n",
    "        return print(\"\\nThe pole will not fit in the box \\nThe longest pole that will fit is\", format(hypotenuse, \".2f\") + \"\\n\")\n",
    "\n",
    "\n",
    "if __name__ == \"__main__\":\n",
    "    main()\n",
    "\n"
   ]
  },
  {
   "cell_type": "code",
   "execution_count": null,
   "metadata": {},
   "outputs": [],
   "source": []
  }
 ],
 "metadata": {
  "kernelspec": {
   "display_name": "Python 3",
   "language": "python",
   "name": "python3"
  },
  "language_info": {
   "codemirror_mode": {
    "name": "ipython",
    "version": 3
   },
   "file_extension": ".py",
   "mimetype": "text/x-python",
   "name": "python",
   "nbconvert_exporter": "python",
   "pygments_lexer": "ipython3",
   "version": "3.6.5"
  }
 },
 "nbformat": 4,
 "nbformat_minor": 2
}
